{
  "nbformat": 4,
  "nbformat_minor": 0,
  "metadata": {
    "colab": {
      "name": "LS_DS2_142_Sampling_Confidence_Intervals_and_Hypothesis_Testing.ipynb",
      "version": "0.3.2",
      "provenance": [],
      "collapsed_sections": [],
      "include_colab_link": true
    },
    "kernelspec": {
      "name": "python3",
      "display_name": "Python 3"
    }
  },
  "cells": [
    {
      "cell_type": "markdown",
      "metadata": {
        "id": "view-in-github",
        "colab_type": "text"
      },
      "source": [
        "<a href=\"https://colab.research.google.com/github/extrajp2014/Bash-Snippets/blob/master/module2-sampling-confidence-intervals-and-hypothesis-testing/LS_DS2_142_Sampling_Confidence_Intervals_and_Hypothesis_Testing.ipynb\" target=\"_parent\"><img src=\"https://colab.research.google.com/assets/colab-badge.svg\" alt=\"Open In Colab\"/></a>"
      ]
    },
    {
      "metadata": {
        "id": "838Dmw1kM2LK",
        "colab_type": "text"
      },
      "cell_type": "markdown",
      "source": [
        "# Lambda School Data Science Module 142\n",
        "## Sampling, Confidence Intervals, and Hypothesis Testing"
      ]
    },
    {
      "metadata": {
        "id": "dbcPKIo5M6Ny",
        "colab_type": "text"
      },
      "cell_type": "markdown",
      "source": [
        "## Prepare - examine other available hypothesis tests\n",
        "\n",
        "If you had to pick a single hypothesis test in your toolbox, t-test would probably be the best choice - but the good news is you don't have to pick just one! Here's some of the others to be aware of:"
      ]
    },
    {
      "metadata": {
        "id": "tlBel8j9M6tB",
        "colab_type": "code",
        "outputId": "4b0bd0d9-7f25-42b5-d0ca-a759ea65b9a5",
        "colab": {
          "base_uri": "https://localhost:8080/",
          "height": 204
        }
      },
      "cell_type": "code",
      "source": [
        "import numpy as np\n",
        "from scipy.stats import chisquare  # One-way chi square test\n",
        "\n",
        "# Chi square can take any crosstab/table and test the independence of rows/cols\n",
        "# The null hypothesis is that the rows/cols are independent -> low chi square\n",
        "# The alternative is that there is a dependence -> high chi square\n",
        "# Be aware! Chi square does *not* tell you direction/causation\n",
        "\n",
        "ind_obs = np.array([[1, 1], [2, 2]]).T\n",
        "print(ind_obs)\n",
        "print(chisquare(ind_obs, axis=None))\n",
        "\n",
        "dep_obs = np.array([[16, 18, 16, 14, 12, 12], [32, 24, 16, 28, 20, 24]]).T\n",
        "print(dep_obs)\n",
        "print(chisquare(dep_obs, axis=None))\n",
        "\n",
        "# Alternative to first table\n",
        "'''\n",
        "       Ins Outs\n",
        "Male  [[2   1]\n",
        "Female [1   2]]\n",
        "\n",
        "'''"
      ],
      "execution_count": 6,
      "outputs": [
        {
          "output_type": "stream",
          "text": [
            "[[1 2]\n",
            " [1 2]]\n",
            "Power_divergenceResult(statistic=0.6666666666666666, pvalue=0.8810148425137847)\n",
            "[[16 32]\n",
            " [18 24]\n",
            " [16 16]\n",
            " [14 28]\n",
            " [12 20]\n",
            " [12 24]]\n",
            "Power_divergenceResult(statistic=23.31034482758621, pvalue=0.015975692534127565)\n"
          ],
          "name": "stdout"
        },
        {
          "output_type": "execute_result",
          "data": {
            "text/plain": [
              "'\\n       Ins Outs\\nMale  [[2   1]\\nFemale [1   2]]\\n\\n'"
            ]
          },
          "metadata": {
            "tags": []
          },
          "execution_count": 6
        }
      ]
    },
    {
      "metadata": {
        "id": "nN0BdNiDPxbk",
        "colab_type": "code",
        "outputId": "46c6f2cf-9bf6-4d1d-f99d-3e4eb3bc2892",
        "colab": {
          "base_uri": "https://localhost:8080/",
          "height": 34
        }
      },
      "cell_type": "code",
      "source": [
        "# Distribution tests:\n",
        "# We often assume that something is normal, but it can be important to *check*\n",
        "\n",
        "# For example, later on with predictive modeling, a typical assumption is that\n",
        "# residuals (prediction errors) are normal - checking is a good diagnostic\n",
        "\n",
        "from scipy.stats import normaltest\n",
        "# Poisson models arrival times and is related to the binomial (coinflip)\n",
        "sample = np.random.poisson(5, 1000)\n",
        "print(normaltest(sample))  # Pretty clearly not normal"
      ],
      "execution_count": 0,
      "outputs": [
        {
          "output_type": "stream",
          "text": [
            "NormaltestResult(statistic=41.224978443149915, pvalue=1.1171453258855673e-09)\n"
          ],
          "name": "stdout"
        }
      ]
    },
    {
      "metadata": {
        "id": "P5t0WhkDReFO",
        "colab_type": "code",
        "outputId": "8838c5f9-1de9-4512-c50d-6887b04339f4",
        "colab": {
          "base_uri": "https://localhost:8080/",
          "height": 51
        }
      },
      "cell_type": "code",
      "source": [
        "# Kruskal-Wallis H-test - compare the median rank between 2+ groups\n",
        "# Can be applied to ranking decisions/outcomes/recommendations\n",
        "# The underlying math comes from chi-square distribution, and is best for n>5\n",
        "from scipy.stats import kruskal\n",
        "\n",
        "x1 = [1, 3, 5, 7, 9]\n",
        "y1 = [2, 4, 6, 8, 10]\n",
        "print(kruskal(x1, y1))  # x1 is a little better, but not \"significantly\" so\n",
        "\n",
        "x2 = [1, 1, 1]\n",
        "y2 = [2, 2, 2]\n",
        "z = [2, 2]  # Hey, a third group, and of different size!\n",
        "print(kruskal(x2, y2, z))  # x clearly dominates"
      ],
      "execution_count": 0,
      "outputs": [
        {
          "output_type": "stream",
          "text": [
            "KruskalResult(statistic=0.2727272727272734, pvalue=0.6015081344405895)\n",
            "KruskalResult(statistic=7.0, pvalue=0.0301973834223185)\n"
          ],
          "name": "stdout"
        }
      ]
    },
    {
      "metadata": {
        "id": "7pT3IP36Rh0b",
        "colab_type": "text"
      },
      "cell_type": "markdown",
      "source": [
        "And there's many more! `scipy.stats` is fairly comprehensive, though there are even more available if you delve into the extended world of statistics packages. As tests get increasingly obscure and specialized, the importance of knowing them by heart becomes small - but being able to look them up and figure them out when they *are* relevant is still important."
      ]
    },
    {
      "metadata": {
        "id": "L1_KRuHCM7BW",
        "colab_type": "text"
      },
      "cell_type": "markdown",
      "source": [
        "## Live Lecture - let's explore some more of scipy.stats"
      ]
    },
    {
      "metadata": {
        "id": "31BOV6ectO-M",
        "colab_type": "code",
        "outputId": "45d73954-b9fe-49b4-e9e0-7e1df78972aa",
        "colab": {
          "base_uri": "https://localhost:8080/",
          "height": 34
        }
      },
      "cell_type": "code",
      "source": [
        "# Playing with distributions\n",
        "from scipy.stats import chi2\n",
        "\n",
        "chi2_5 = chi2(5)\n",
        "chi2_5"
      ],
      "execution_count": 0,
      "outputs": [
        {
          "output_type": "execute_result",
          "data": {
            "text/plain": [
              "<scipy.stats._distn_infrastructure.rv_frozen at 0x7f9c8db69fd0>"
            ]
          },
          "metadata": {
            "tags": []
          },
          "execution_count": 4
        }
      ]
    },
    {
      "metadata": {
        "id": "Y49c6we2tbmD",
        "colab_type": "code",
        "outputId": "27a49f30-534a-4644-f8f1-96ad11457a46",
        "colab": {
          "base_uri": "https://localhost:8080/",
          "height": 34
        }
      },
      "cell_type": "code",
      "source": [
        "chi2_5.mean()"
      ],
      "execution_count": 0,
      "outputs": [
        {
          "output_type": "execute_result",
          "data": {
            "text/plain": [
              "5.0"
            ]
          },
          "metadata": {
            "tags": []
          },
          "execution_count": 5
        }
      ]
    },
    {
      "metadata": {
        "id": "lYQWvgnftfUJ",
        "colab_type": "code",
        "outputId": "e1c6810f-d32e-4aa6-b3d4-4e04e4b719ed",
        "colab": {
          "base_uri": "https://localhost:8080/",
          "height": 34
        }
      },
      "cell_type": "code",
      "source": [
        "chi2_5.median()"
      ],
      "execution_count": 0,
      "outputs": [
        {
          "output_type": "execute_result",
          "data": {
            "text/plain": [
              "4.351460191095526"
            ]
          },
          "metadata": {
            "tags": []
          },
          "execution_count": 6
        }
      ]
    },
    {
      "metadata": {
        "id": "Ev0A1XF7trRJ",
        "colab_type": "code",
        "outputId": "76d19c37-de41-4353-bb1c-5cb93aaa9178",
        "colab": {
          "base_uri": "https://localhost:8080/",
          "height": 51
        }
      },
      "cell_type": "code",
      "source": [
        "chi2_500 = chi2(500)\n",
        "print(chi2_500.mean())\n",
        "print(chi2_500.median())"
      ],
      "execution_count": 0,
      "outputs": [
        {
          "output_type": "stream",
          "text": [
            "500.0\n",
            "499.3334915888738\n"
          ],
          "name": "stdout"
        }
      ]
    },
    {
      "metadata": {
        "id": "vvtjeumOuEEk",
        "colab_type": "code",
        "outputId": "6f6858b8-f16b-459d-e3e5-ce53842214e8",
        "colab": {
          "base_uri": "https://localhost:8080/",
          "height": 476
        }
      },
      "cell_type": "code",
      "source": [
        "dir(chi2_5.pdf)"
      ],
      "execution_count": 0,
      "outputs": [
        {
          "output_type": "execute_result",
          "data": {
            "text/plain": [
              "['__call__',\n",
              " '__class__',\n",
              " '__delattr__',\n",
              " '__dir__',\n",
              " '__doc__',\n",
              " '__eq__',\n",
              " '__format__',\n",
              " '__func__',\n",
              " '__ge__',\n",
              " '__get__',\n",
              " '__getattribute__',\n",
              " '__gt__',\n",
              " '__hash__',\n",
              " '__init__',\n",
              " '__init_subclass__',\n",
              " '__le__',\n",
              " '__lt__',\n",
              " '__ne__',\n",
              " '__new__',\n",
              " '__reduce__',\n",
              " '__reduce_ex__',\n",
              " '__repr__',\n",
              " '__self__',\n",
              " '__setattr__',\n",
              " '__sizeof__',\n",
              " '__str__',\n",
              " '__subclasshook__']"
            ]
          },
          "metadata": {
            "tags": []
          },
          "execution_count": 8
        }
      ]
    },
    {
      "metadata": {
        "id": "4RTYs-U3uoz8",
        "colab_type": "code",
        "outputId": "61075735-b714-4f9c-c883-af30b3fa211c",
        "colab": {
          "base_uri": "https://localhost:8080/",
          "height": 364
        }
      },
      "cell_type": "code",
      "source": [
        "# From Cole\n",
        "import scipy\n",
        "import numpy as np\n",
        "import matplotlib.pyplot as plt\n",
        "data = scipy.stats.norm.rvs(size=100000, loc=0, scale=1.5, random_state=123)\n",
        "X = np.linspace(-5.0, 5.0, 100)\n",
        "hist = np.histogram(data, bins=100)\n",
        "hist_dist = scipy.stats.rv_histogram(hist)\n",
        "plt.plot(X, hist_dist.pdf(X), label='PDF')"
      ],
      "execution_count": 0,
      "outputs": [
        {
          "output_type": "execute_result",
          "data": {
            "text/plain": [
              "[<matplotlib.lines.Line2D at 0x7f9c8da7e080>]"
            ]
          },
          "metadata": {
            "tags": []
          },
          "execution_count": 9
        },
        {
          "output_type": "display_data",
          "data": {
            "image/png": "[encoded data removed]",
            "text/plain": [
              "<Figure size 576x396 with 1 Axes>"
            ]
          },
          "metadata": {
            "tags": []
          }
        }
      ]
    },
    {
      "metadata": {
        "id": "5xbRAyhZu7CZ",
        "colab_type": "code",
        "outputId": "a8f70d12-9418-4d58-dab4-ed3edf7ffc88",
        "colab": {
          "base_uri": "https://localhost:8080/",
          "height": 34
        }
      },
      "cell_type": "code",
      "source": [
        "# How do I test \"how normal\" a chisquare(500) is?\n",
        "from scipy.stats import normaltest\n",
        "\n",
        "normaltest(chi2_500.rvs(100000))"
      ],
      "execution_count": 0,
      "outputs": [
        {
          "output_type": "execute_result",
          "data": {
            "text/plain": [
              "NormaltestResult(statistic=300.3384668409327, pvalue=6.058018201504179e-66)"
            ]
          },
          "metadata": {
            "tags": []
          },
          "execution_count": 10
        }
      ]
    },
    {
      "metadata": {
        "id": "JWWjSBYRvolI",
        "colab_type": "code",
        "outputId": "fa2be4ad-b1ea-4a9b-a756-14361c6c4dfe",
        "colab": {
          "base_uri": "https://localhost:8080/",
          "height": 986
        }
      },
      "cell_type": "code",
      "source": [
        "help(normaltest)"
      ],
      "execution_count": 0,
      "outputs": [
        {
          "output_type": "stream",
          "text": [
            "Help on function normaltest in module scipy.stats.stats:\n",
            "\n",
            "normaltest(a, axis=0, nan_policy='propagate')\n",
            "    Test whether a sample differs from a normal distribution.\n",
            "    \n",
            "    This function tests the null hypothesis that a sample comes\n",
            "    from a normal distribution.  It is based on D'Agostino and\n",
            "    Pearson's [1]_, [2]_ test that combines skew and kurtosis to\n",
            "    produce an omnibus test of normality.\n",
            "    \n",
            "    \n",
            "    Parameters\n",
            "    ----------\n",
            "    a : array_like\n",
            "        The array containing the sample to be tested.\n",
            "    axis : int or None, optional\n",
            "        Axis along which to compute test. Default is 0. If None,\n",
            "        compute over the whole array `a`.\n",
            "    nan_policy : {'propagate', 'raise', 'omit'}, optional\n",
            "        Defines how to handle when input contains nan. 'propagate' returns nan,\n",
            "        'raise' throws an error, 'omit' performs the calculations ignoring nan\n",
            "        values. Default is 'propagate'.\n",
            "    \n",
            "    Returns\n",
            "    -------\n",
            "    statistic : float or array\n",
            "        ``s^2 + k^2``, where ``s`` is the z-score returned by `skewtest` and\n",
            "        ``k`` is the z-score returned by `kurtosistest`.\n",
            "    pvalue : float or array\n",
            "       A 2-sided chi squared probability for the hypothesis test.\n",
            "    \n",
            "    References\n",
            "    ----------\n",
            "    .. [1] D'Agostino, R. B. (1971), \"An omnibus test of normality for\n",
            "           moderate and large sample size\", Biometrika, 58, 341-348\n",
            "    \n",
            "    .. [2] D'Agostino, R. and Pearson, E. S. (1973), \"Tests for departure from\n",
            "           normality\", Biometrika, 60, 613-622\n",
            "    \n",
            "    Examples\n",
            "    --------\n",
            "    >>> from scipy import stats\n",
            "    >>> pts = 1000\n",
            "    >>> np.random.seed(28041990)\n",
            "    >>> a = np.random.normal(0, 1, size=pts)\n",
            "    >>> b = np.random.normal(2, 1, size=pts)\n",
            "    >>> x = np.concatenate((a, b))\n",
            "    >>> k2, p = stats.normaltest(x)\n",
            "    >>> alpha = 1e-3\n",
            "    >>> print(\"p = {:g}\".format(p))\n",
            "    p = 3.27207e-11\n",
            "    >>> if p < alpha:  # null hypothesis: x comes from a normal distribution\n",
            "    ...     print(\"The null hypothesis can be rejected\")\n",
            "    ... else:\n",
            "    ...     print(\"The null hypothesis cannot be rejected\")\n",
            "    The null hypothesis can be rejected\n",
            "\n"
          ],
          "name": "stdout"
        }
      ]
    },
    {
      "metadata": {
        "id": "2_8hazseumXH",
        "colab_type": "code",
        "outputId": "ed16dc41-042f-4fe0-f98e-75349b7ab5ec",
        "colab": {
          "base_uri": "https://localhost:8080/",
          "height": 111
        }
      },
      "cell_type": "code",
      "source": [
        "# Let's calculate chi square test statistic, first by hand\n",
        "\n",
        "# 1 male wants to eat outside, 2 inside\n",
        "# 2 females want to eat outside, 1 inside\n",
        "chi_data = [[1, 2], [2, 1]]\n",
        "\n",
        "import pandas as pd\n",
        "chi_data = pd.DataFrame(chi_data, columns=['Outside', 'Inside'])\n",
        "chi_data"
      ],
      "execution_count": 9,
      "outputs": [
        {
          "output_type": "execute_result",
          "data": {
            "text/html": [
              "<div>\n",
              "<style scoped>\n",
              "    .dataframe tbody tr th:only-of-type {\n",
              "        vertical-align: middle;\n",
              "    }\n",
              "\n",
              "    .dataframe tbody tr th {\n",
              "        vertical-align: top;\n",
              "    }\n",
              "\n",
              "    .dataframe thead th {\n",
              "        text-align: right;\n",
              "    }\n",
              "</style>\n",
              "<table border=\"1\" class=\"dataframe\">\n",
              "  <thead>\n",
              "    <tr style=\"text-align: right;\">\n",
              "      <th></th>\n",
              "      <th>Outside</th>\n",
              "      <th>Inside</th>\n",
              "    </tr>\n",
              "  </thead>\n",
              "  <tbody>\n",
              "    <tr>\n",
              "      <th>0</th>\n",
              "      <td>1</td>\n",
              "      <td>2</td>\n",
              "    </tr>\n",
              "    <tr>\n",
              "      <th>1</th>\n",
              "      <td>2</td>\n",
              "      <td>1</td>\n",
              "    </tr>\n",
              "  </tbody>\n",
              "</table>\n",
              "</div>"
            ],
            "text/plain": [
              "   Outside  Inside\n",
              "0        1       2\n",
              "1        2       1"
            ]
          },
          "metadata": {
            "tags": []
          },
          "execution_count": 9
        }
      ]
    },
    {
      "metadata": {
        "id": "AeNDtKi4zVck",
        "colab_type": "code",
        "outputId": "fbedc949-0615-432d-de02-0afb5f1d2795",
        "colab": {
          "base_uri": "https://localhost:8080/",
          "height": 34
        }
      },
      "cell_type": "code",
      "source": [
        "# Let's just type out/explain the margin counts\n",
        "# Total number of males (first row) = 3\n",
        "# Total number of females (second row) = 3\n",
        "# Total number of people who prefer outside = 3\n",
        "# Total number of people who prefer inside = 3\n",
        "\n",
        "# Now let's think about margin *proportions*\n",
        "# Proportion of first row = obs / total = (3 males) / (3 males + 3 females)\n",
        "# = 3/6 = 0.5\n",
        "# All the other rows/cols also have 0.5 proportion margins\n",
        "\n",
        "# Expected value for top left cell (males who want to eat outside)\n",
        "# (0.5 (proportion of males) * 0.5 (proportion of outside-eaters)) * 6 = 1.5\n",
        "\n",
        "# Because of symmetry of this little example, we know the expected value of\n",
        "# *all* cells is 1.5 (i.e. the same, because margins are all the same)\n",
        "\n",
        "# chi-square test statistic is the sum of square deviation from these E.V.\n",
        "expected_values = [[1.5, 1.5], [1.5, 1.5]]\n",
        "deviation = (((0.5)**2) / 1.5) * 4  # 0.5^2 deviation per cell, scaled and added\n",
        "print(deviation)"
      ],
      "execution_count": 0,
      "outputs": [
        {
          "output_type": "stream",
          "text": [
            "0.6666666666666666\n"
          ],
          "name": "stdout"
        }
      ]
    },
    {
      "metadata": {
        "id": "OvMYOmoX2G10",
        "colab_type": "code",
        "colab": {}
      },
      "cell_type": "code",
      "source": [
        "# Close but not all the way\n",
        "# https://en.wikipedia.org/wiki/Pearson%27s_chi-squared_test"
      ],
      "execution_count": 0,
      "outputs": []
    },
    {
      "metadata": {
        "id": "CRRDSifm2cvC",
        "colab_type": "code",
        "outputId": "9f8f193b-63c0-4ff6-87d8-526f085d92f0",
        "colab": {
          "base_uri": "https://localhost:8080/",
          "height": 34
        }
      },
      "cell_type": "code",
      "source": [
        "# A little bit more properly, but not fully from scratch\n",
        "\n",
        "def lazy_chisquare(observed, expected):\n",
        "  chisquare = 0\n",
        "  for row_obs, row_exp in zip(observed, expected):\n",
        "    for obs, exp in zip(row_obs, row_exp):\n",
        "      chisquare += (obs - exp)**2 / exp\n",
        "  return chisquare\n",
        "\n",
        "chi_data = [[1, 2], [2, 1]]\n",
        "expected_values = [[1.5, 1.5], [1.5, 1.5]]\n",
        "lazy_chisquare(chi_data, expected_values)"
      ],
      "execution_count": 0,
      "outputs": [
        {
          "output_type": "execute_result",
          "data": {
            "text/plain": [
              "0.6666666666666666"
            ]
          },
          "metadata": {
            "tags": []
          },
          "execution_count": 15
        }
      ]
    },
    {
      "metadata": {
        "id": "EdvyX9Xt3wQP",
        "colab_type": "code",
        "colab": {}
      },
      "cell_type": "code",
      "source": [
        "# How do we interpret?\n",
        "# https://homepage.divms.uiowa.edu/~mbognar/applets/chisq.html\n",
        "# n-1 degrees of freedom! (where n=number of *cells* in table)"
      ],
      "execution_count": 0,
      "outputs": []
    },
    {
      "metadata": {
        "id": "XVwZ3BqH1dbN",
        "colab_type": "code",
        "outputId": "5d05a982-5dea-46b6-cc51-8204e9b0b176",
        "colab": {
          "base_uri": "https://localhost:8080/",
          "height": 34
        }
      },
      "cell_type": "code",
      "source": [
        "# Let's run it with scipy so we have a target\n",
        "from scipy.stats import chisquare  # One-way chi square test\n",
        "\n",
        "chisquare(chi_data, axis=None)"
      ],
      "execution_count": 0,
      "outputs": [
        {
          "output_type": "execute_result",
          "data": {
            "text/plain": [
              "Power_divergenceResult(statistic=0.6666666666666666, pvalue=0.8810148425137847)"
            ]
          },
          "metadata": {
            "tags": []
          },
          "execution_count": 17
        }
      ]
    },
    {
      "metadata": {
        "id": "8Ok9AOYR7aBK",
        "colab_type": "code",
        "outputId": "3bdc9432-e274-4b6f-de58-326ef01fb42c",
        "colab": {
          "base_uri": "https://localhost:8080/",
          "height": 391
        }
      },
      "cell_type": "code",
      "source": [
        "help(stats.t.ppf)"
      ],
      "execution_count": 0,
      "outputs": [
        {
          "output_type": "stream",
          "text": [
            "Help on method ppf in module scipy.stats._distn_infrastructure:\n",
            "\n",
            "ppf(q, *args, **kwds) method of scipy.stats._continuous_distns.t_gen instance\n",
            "    Percent point function (inverse of `cdf`) at q of the given RV.\n",
            "    \n",
            "    Parameters\n",
            "    ----------\n",
            "    q : array_like\n",
            "        lower tail probability\n",
            "    arg1, arg2, arg3,... : array_like\n",
            "        The shape parameter(s) for the distribution (see docstring of the\n",
            "        instance object for more information)\n",
            "    loc : array_like, optional\n",
            "        location parameter (default=0)\n",
            "    scale : array_like, optional\n",
            "        scale parameter (default=1)\n",
            "    \n",
            "    Returns\n",
            "    -------\n",
            "    x : array_like\n",
            "        quantile corresponding to the lower tail probability q.\n",
            "\n"
          ],
          "name": "stdout"
        }
      ]
    },
    {
      "metadata": {
        "id": "qW6k0dorM7Lz",
        "colab_type": "code",
        "colab": {}
      },
      "cell_type": "code",
      "source": [
        "# Confidence intervals!\n",
        "# Similar to hypothesis testing, but centered at sample mean\n",
        "# Generally better than reporting the \"point estimate\" (sample mean)\n",
        "# Why? Because point estimates aren't always perfect\n",
        "\n",
        "import numpy as np\n",
        "from scipy import stats\n",
        "\n",
        "def confidence_interval(data, confidence=0.95):\n",
        "  \"\"\"\n",
        "  Calculate a confidence interval around a sample mean for given data.\n",
        "  Using t-distribution and two-tailed test, default 95% confidence. \n",
        "  \n",
        "  Arguments:\n",
        "    data - iterable (list or numpy array) of sample observations\n",
        "    confidence - level of confidence for the interval\n",
        "  \n",
        "  Returns:\n",
        "    tuple of (mean, lower bound, upper bound)\n",
        "  \"\"\"\n",
        "  data = np.array(data)\n",
        "  mean = np.mean(data)\n",
        "  n = len(data)\n",
        "  stderr = stats.sem(data)\n",
        "  interval = stderr * stats.t.ppf((1 + confidence) / 2., n - 1)\n",
        "  return (mean, mean - interval, mean + interval)\n",
        "\n",
        "def report_confidence_interval(confidence_interval):\n",
        "  \"\"\"\n",
        "  Return a string with a pretty report of a confidence interval.\n",
        "  \n",
        "  Arguments:\n",
        "    confidence_interval - tuple of (mean, lower bound, upper bound)\n",
        "  \n",
        "  Returns:\n",
        "    None, but prints to screen the report\n",
        "  \"\"\"\n",
        "  #print('Mean: {}'.format(confidence_interval[0]))\n",
        "  #print('Lower bound: {}'.format(confidence_interval[1]))\n",
        "  #print('Upper bound: {}'.format(confidence_interval[2]))\n",
        "  s = \"our mean lies in the interval [{:.2}, {:.2}]\".format(\n",
        "      confidence_interval[1], confidence_interval[2])\n",
        "  return s"
      ],
      "execution_count": 0,
      "outputs": []
    },
    {
      "metadata": {
        "id": "996i-p8i7xuO",
        "colab_type": "code",
        "colab": {
          "base_uri": "https://localhost:8080/",
          "height": 34
        },
        "outputId": "03a64e8c-1751-4154-803c-acf36716796b"
      },
      "cell_type": "code",
      "source": [
        "x = 2\n",
        "print('x is: {}'.format(x))"
      ],
      "execution_count": 2,
      "outputs": [
        {
          "output_type": "stream",
          "text": [
            "x is: 2\n"
          ],
          "name": "stdout"
        }
      ]
    },
    {
      "metadata": {
        "id": "prOAm9iy73tz",
        "colab_type": "code",
        "colab": {
          "base_uri": "https://localhost:8080/",
          "height": 68
        },
        "outputId": "b20d7b8e-0d32-4e75-c589-a1f3e911b33f"
      },
      "cell_type": "code",
      "source": [
        "coinflips = np.random.binomial(n=1, p=0.7, size=100)\n",
        "print(coinflips)"
      ],
      "execution_count": 3,
      "outputs": [
        {
          "output_type": "stream",
          "text": [
            "[1 0 1 1 0 1 1 1 1 0 1 1 1 1 1 1 1 0 1 1 1 1 0 0 1 1 1 1 1 1 1 1 0 1 1 1 0\n",
            " 1 1 1 1 1 1 1 1 1 1 1 1 1 1 1 1 1 0 1 0 1 1 0 1 1 0 1 1 1 0 1 1 1 1 1 1 1\n",
            " 0 1 1 1 1 1 1 1 0 1 1 1 1 1 0 0 0 1 1 1 1 1 0 1 0 0]\n"
          ],
          "name": "stdout"
        }
      ]
    },
    {
      "metadata": {
        "id": "7gFCN5Nz7-aJ",
        "colab_type": "code",
        "colab": {
          "base_uri": "https://localhost:8080/",
          "height": 34
        },
        "outputId": "9f8c037d-3986-4d1f-c0bd-3bc57276aa7b"
      },
      "cell_type": "code",
      "source": [
        "stats.ttest_1samp(coinflips, 0.5)"
      ],
      "execution_count": 8,
      "outputs": [
        {
          "output_type": "execute_result",
          "data": {
            "text/plain": [
              "Ttest_1sampResult(statistic=7.084225912631069, pvalue=2.069438753561787e-10)"
            ]
          },
          "metadata": {
            "tags": []
          },
          "execution_count": 8
        }
      ]
    },
    {
      "metadata": {
        "id": "BxnZUMca8Srh",
        "colab_type": "code",
        "colab": {
          "base_uri": "https://localhost:8080/",
          "height": 297
        },
        "outputId": "98fe9020-47e0-469c-81bd-f344bf998701"
      },
      "cell_type": "code",
      "source": [
        "df = pd.DataFrame(coinflips)\n",
        "df.describe()"
      ],
      "execution_count": 10,
      "outputs": [
        {
          "output_type": "execute_result",
          "data": {
            "text/html": [
              "<div>\n",
              "<style scoped>\n",
              "    .dataframe tbody tr th:only-of-type {\n",
              "        vertical-align: middle;\n",
              "    }\n",
              "\n",
              "    .dataframe tbody tr th {\n",
              "        vertical-align: top;\n",
              "    }\n",
              "\n",
              "    .dataframe thead th {\n",
              "        text-align: right;\n",
              "    }\n",
              "</style>\n",
              "<table border=\"1\" class=\"dataframe\">\n",
              "  <thead>\n",
              "    <tr style=\"text-align: right;\">\n",
              "      <th></th>\n",
              "      <th>0</th>\n",
              "    </tr>\n",
              "  </thead>\n",
              "  <tbody>\n",
              "    <tr>\n",
              "      <th>count</th>\n",
              "      <td>100.00000</td>\n",
              "    </tr>\n",
              "    <tr>\n",
              "      <th>mean</th>\n",
              "      <td>0.79000</td>\n",
              "    </tr>\n",
              "    <tr>\n",
              "      <th>std</th>\n",
              "      <td>0.40936</td>\n",
              "    </tr>\n",
              "    <tr>\n",
              "      <th>min</th>\n",
              "      <td>0.00000</td>\n",
              "    </tr>\n",
              "    <tr>\n",
              "      <th>25%</th>\n",
              "      <td>1.00000</td>\n",
              "    </tr>\n",
              "    <tr>\n",
              "      <th>50%</th>\n",
              "      <td>1.00000</td>\n",
              "    </tr>\n",
              "    <tr>\n",
              "      <th>75%</th>\n",
              "      <td>1.00000</td>\n",
              "    </tr>\n",
              "    <tr>\n",
              "      <th>max</th>\n",
              "      <td>1.00000</td>\n",
              "    </tr>\n",
              "  </tbody>\n",
              "</table>\n",
              "</div>"
            ],
            "text/plain": [
              "               0\n",
              "count  100.00000\n",
              "mean     0.79000\n",
              "std      0.40936\n",
              "min      0.00000\n",
              "25%      1.00000\n",
              "50%      1.00000\n",
              "75%      1.00000\n",
              "max      1.00000"
            ]
          },
          "metadata": {
            "tags": []
          },
          "execution_count": 10
        }
      ]
    },
    {
      "metadata": {
        "id": "R96w1a1d8XgC",
        "colab_type": "code",
        "colab": {
          "base_uri": "https://localhost:8080/",
          "height": 34
        },
        "outputId": "3db0945d-cca2-4952-bc60-a4764d9224f4"
      },
      "cell_type": "code",
      "source": [
        "coinflip_interval = confidence_interval(coinflips)  # Default 95% conf\n",
        "coinflip_interval"
      ],
      "execution_count": 11,
      "outputs": [
        {
          "output_type": "execute_result",
          "data": {
            "text/plain": [
              "(0.79, 0.7087740590102375, 0.8712259409897626)"
            ]
          },
          "metadata": {
            "tags": []
          },
          "execution_count": 11
        }
      ]
    },
    {
      "metadata": {
        "id": "qIAJVwqi8vPL",
        "colab_type": "code",
        "colab": {
          "base_uri": "https://localhost:8080/",
          "height": 34
        },
        "outputId": "ec25427d-0a2d-4164-c85d-0eb5fd5d7f5f"
      },
      "cell_type": "code",
      "source": [
        "report_confidence_interval(coinflip_interval)"
      ],
      "execution_count": 12,
      "outputs": [
        {
          "output_type": "execute_result",
          "data": {
            "text/plain": [
              "'our mean lies in the interval [0.71, 0.87]'"
            ]
          },
          "metadata": {
            "tags": []
          },
          "execution_count": 12
        }
      ]
    },
    {
      "metadata": {
        "id": "qBtebUNS7IJe",
        "colab_type": "code",
        "colab": {}
      },
      "cell_type": "code",
      "source": [
        "help(confidence_interval)"
      ],
      "execution_count": 0,
      "outputs": []
    },
    {
      "metadata": {
        "id": "11OzdxWTM7UR",
        "colab_type": "text"
      },
      "cell_type": "markdown",
      "source": [
        "## Assignment - Build a confidence interval\n",
        "\n",
        "A confidence interval refers to a neighborhood around some point estimate, the size of which is determined by the desired p-value. For instance, we might say that 52% of Americans prefer tacos to burritos, with a 95% confidence interval of +/- 5%.\n",
        "\n",
        "52% (0.52) is the point estimate, and +/- 5% (the interval $[0.47, 0.57]$) is the confidence interval. \"95% confidence\" means a p-value $\\leq 1 - 0.95 = 0.05$.\n",
        "\n",
        "In this case, the confidence interval includes $0.5$ - which is the natural null hypothesis (that half of Americans prefer tacos and half burritos, thus there is no clear favorite). So in this case, we could use the confidence interval to report that we've failed to reject the null hypothesis.\n",
        "\n",
        "But providing the full analysis with a confidence interval, including a graphical representation of it, can be a helpful and powerful way to tell your story. Done well, it is also more intuitive to a layperson than simply saying \"fail to reject the null hypothesis\" - it shows that in fact the data does *not* give a single clear result (the point estimate) but a whole range of possibilities.\n",
        "\n",
        "How is a confidence interval built, and how should it be interpreted? It does *not* mean that 95% of the data lies in that interval - instead, the frequentist interpretation is \"if we were to repeat this experiment 100 times, we would expect the average result to lie in this interval ~95 times.\"\n",
        "\n",
        "For a 95% confidence interval and a normal(-ish) distribution, you can simply remember that +/-2 standard deviations contains 95% of the probability mass, and so the 95% confidence interval based on a given sample is centered at the mean (point estimate) and has a range of +/- 2 (or technically 1.96) standard deviations.\n",
        "\n",
        "Different distributions/assumptions (90% confidence, 99% confidence) will require different math, but the overall process and interpretation (with a frequentist approach) will be the same.\n",
        "\n",
        "Your assignment - using the data from the prior module ([congressional voting records](https://archive.ics.uci.edu/ml/datasets/Congressional+Voting+Records)):\n",
        "\n",
        "1. Generate and numerically represent a confidence interval\n",
        "2. Graphically (with a plot) represent the confidence interval\n",
        "3. Interpret the confidence interval - what does it tell you about the data and its distribution?\n",
        "\n",
        "Stretch goals:\n",
        "\n",
        "1. Write a summary of your findings, mixing prose and math/code/results. *Note* - yes, this is by definition a political topic. It is challenging but important to keep your writing voice *neutral* and stick to the facts of the data. Data science often involves considering controversial issues, so it's important to be sensitive about them (especially if you want to publish).\n",
        "2. Apply the techniques you learned today to your project data or other data of your choice, and write/discuss your findings here.\n",
        "3. Refactor your code so it is elegant, readable, and can be easily run for all issues"
      ]
    },
    {
      "metadata": {
        "id": "Ckcr4A4FM7cs",
        "colab_type": "code",
        "outputId": "12fb1c32-46e4-4552-f6fb-0aff7ff5c4b4",
        "colab": {
          "base_uri": "https://localhost:8080/",
          "height": 340
        }
      },
      "cell_type": "code",
      "source": [
        "import scipy\n",
        "from scipy import stats\n",
        "import numpy as np\n",
        "import pandas as pd\n",
        "import matplotlib.pyplot as plt\n",
        "%matplotlib inline\n",
        "\n",
        "\n",
        "pd.set_option('display.height', 500)\n",
        "pd.set_option('display.max_rows', 500)\n",
        "pd.set_option('display.max_columns', 500)\n",
        "pd.set_option('display.width', 500)\n",
        "colNames = [i for i in range(1,18)]\n",
        "df = pd.read_csv('https://archive.ics.uci.edu/ml/machine-learning-databases/voting-records/house-votes-84.data', header=None, names=colNames) \n",
        "\n",
        "df = df.replace({'y': 1, 'n': 0, '?': np.nan})\n",
        "dem_df = df[df[1]=='democrat']\n",
        "rep_df = df[df[1]=='republican']\n",
        "print(dem_df.sample(7))\n",
        "print(\"\")\n",
        "print(rep_df.sample(7))\n",
        "print(\"\")\n",
        "print(dem_df.shape, rep_df.shape)\n",
        "\n",
        "#    1. Class Name: 2 (democrat, republican)\n",
        "#    2. handicapped-infants: 2 (y,n)\n",
        "#    3. water-project-cost-sharing: 2 (y,n)\n",
        "#    4. adoption-of-the-budget-resolution: 2 (y,n)\n",
        "#    5. physician-fee-freeze: 2 (y,n)\n",
        "#    6. el-salvador-aid: 2 (y,n)\n",
        "#    7. religious-groups-in-schools: 2 (y,n)\n",
        "#    8. anti-satellite-test-ban: 2 (y,n)\n",
        "#    9. aid-to-nicaraguan-contras: 2 (y,n)\n",
        "#   10. mx-missile: 2 (y,n)\n",
        "#   11. immigration: 2 (y,n)\n",
        "#   12. synfuels-corporation-cutback: 2 (y,n)\n",
        "#   13. education-spending: 2 (y,n)\n",
        "#   14. superfund-right-to-sue: 2 (y,n)\n",
        "#   15. crime: 2 (y,n)\n",
        "#   16. duty-free-exports: 2 (y,n)\n",
        "#   17. export-administration-act-south-africa: 2 (y,n)\n"
      ],
      "execution_count": 14,
      "outputs": [
        {
          "output_type": "stream",
          "text": [
            "           1    2    3    4    5    6    7    8    9    10   11   12   13   14   15   16   17\n",
            "311  democrat  0.0  0.0  1.0  0.0  0.0  1.0  1.0  1.0  1.0  1.0  0.0  0.0  1.0  0.0  0.0  1.0\n",
            "243  democrat  0.0  1.0  1.0  0.0  0.0  0.0  1.0  1.0  NaN  1.0  0.0  0.0  1.0  0.0  1.0  1.0\n",
            "331  democrat  1.0  NaN  1.0  0.0  0.0  0.0  1.0  1.0  1.0  0.0  0.0  0.0  0.0  0.0  1.0  NaN\n",
            "138  democrat  0.0  0.0  1.0  0.0  0.0  1.0  1.0  1.0  1.0  1.0  0.0  0.0  0.0  1.0  0.0  1.0\n",
            "118  democrat  0.0  1.0  1.0  0.0  0.0  0.0  0.0  1.0  1.0  1.0  1.0  0.0  0.0  0.0  1.0  1.0\n",
            "326  democrat  1.0  1.0  0.0  1.0  0.0  0.0  1.0  1.0  1.0  0.0  1.0  0.0  0.0  1.0  0.0  1.0\n",
            "76   democrat  0.0  1.0  1.0  0.0  1.0  1.0  0.0  0.0  0.0  1.0  1.0  1.0  1.0  1.0  0.0  NaN\n",
            "\n",
            "             1    2    3    4    5    6    7    8    9    10   11   12   13   14   15   16   17\n",
            "278  republican  0.0  0.0  0.0  1.0  1.0  1.0  0.0  0.0  0.0  0.0  0.0  1.0  1.0  1.0  0.0  1.0\n",
            "142  republican  0.0  0.0  0.0  1.0  1.0  1.0  1.0  1.0  1.0  1.0  0.0  1.0  1.0  1.0  0.0  1.0\n",
            "207  republican  1.0  NaN  0.0  1.0  1.0  1.0  1.0  0.0  0.0  1.0  0.0  1.0  1.0  1.0  0.0  1.0\n",
            "430  republican  0.0  0.0  1.0  1.0  1.0  1.0  0.0  0.0  1.0  1.0  0.0  1.0  1.0  1.0  0.0  1.0\n",
            "120  republican  0.0  NaN  NaN  1.0  1.0  1.0  0.0  0.0  0.0  1.0  0.0  1.0  1.0  1.0  NaN  1.0\n",
            "7    republican  0.0  1.0  0.0  1.0  1.0  1.0  0.0  0.0  0.0  0.0  0.0  0.0  1.0  1.0  NaN  1.0\n",
            "155  republican  1.0  1.0  0.0  1.0  1.0  1.0  0.0  NaN  0.0  0.0  1.0  1.0  1.0  1.0  0.0  0.0\n",
            "\n",
            "(267, 17) (168, 17)\n"
          ],
          "name": "stdout"
        }
      ]
    },
    {
      "metadata": {
        "id": "j_HVGhMPctDk",
        "colab_type": "code",
        "colab": {}
      },
      "cell_type": "code",
      "source": [
        "def mean_confidence_interval(data, confidence=0.95):\n",
        "  a = 1.0 * np.array(data)\n",
        "  n = len(a)\n",
        "  m, se = np.mean(a), scipy.stats.sem(a)\n",
        "  h = se * scipy.stats.t.ppf((1 + confidence) / 2., n-1)\n",
        "  return m\n",
        "\n",
        "def lower_CI(data, confidence=0.95):\n",
        "  n = len(data)\n",
        "  m, se = np.mean(data), scipy.stats.sem(data)\n",
        "  h = se * scipy.stats.t.ppf((1 + confidence) / 2., n-1)\n",
        "  return m-h\n",
        "\n",
        "def upper_CI(data, confidence=0.95):\n",
        "  n = len(data)\n",
        "  m, se = np.mean(data), scipy.stats.sem(data)\n",
        "  h = se * scipy.stats.t.ppf((1 + confidence) / 2., n-1)\n",
        "  return m+h\n",
        "\n",
        "# return [m,m-h,m+h]\n",
        "# print(a,\" = dataset\\n\", se,\" = standard error of mean\")\n",
        "# print(\"Mean is \"+str(m)+\" and 95% CI is between \"+str(m-h)+\" and \"+str(m+h))"
      ],
      "execution_count": 0,
      "outputs": []
    },
    {
      "metadata": {
        "id": "wdvWVpaPg5JR",
        "colab_type": "code",
        "outputId": "cb5515b2-ed19-47e1-840d-23dce6cbb4f4",
        "colab": {
          "base_uri": "https://localhost:8080/",
          "height": 983
        }
      },
      "cell_type": "code",
      "source": [
        "index=[\"handicapped-infants\",\n",
        "      \"water-project-cost-sharing\",\n",
        "      \"adoption-of-the-budget-resolution\",\n",
        "      \"physician-fee-freeze\",\n",
        "      \"el-salvador-aid\",\n",
        "      \"religious-groups-in-schools\",\n",
        "      \"anti-satellite-test-ban\",\n",
        "      \"aid-to-nicaraguan-contras\",\n",
        "      \"mx-missile\",\n",
        "      \"immigration\",\n",
        "      \"synfuels-corporation-cutback\",\n",
        "      \"education-spending\",\n",
        "      \"superfund-right-to-sue\",\n",
        "      \"crime\",\n",
        "      \"duty-free-exports\",\n",
        "      \"export-administration-act-south-africa\"]\n",
        "graph_df=pd.DataFrame(index=index)\n",
        "\n",
        "# Set democrat data\n",
        "graph_df['lower_CI']=[lower_CI(dem_df[i].dropna()) for i in range(2,18)]\n",
        "graph_df['mean']=[dem_df[i].dropna().mean() for i in range(2,18)]\n",
        "graph_df['upper_CI']=[upper_CI(dem_df[i].dropna()) for i in range(2,18)]\n",
        "graph_df=graph_df.sort_values(by='mean')\n",
        "\n",
        "# Set republican data\n",
        "graph_df2['lower_CI']=[lower_CI(rep_df[i].dropna()) for i in range(2,18)]\n",
        "graph_df2['mean']=[rep_df[i].dropna().mean() for i in range(2,18)]\n",
        "graph_df2['upper_CI']=[upper_CI(rep_df[i].dropna()) for i in range(2,18)]\n",
        "graph_df2=graph_df2.sort_values(by='mean')\n",
        "\n",
        "graph_df2.plot.barh(rot=0, figsize=(12,8), xticks = (0.1,0.2,0.3,0.4,0.5,0.6,0.7,0.8,0.9,1), title=\"Republican Stats\", fontsize=12)\n",
        "graph_df.plot.barh(rot=0, figsize=(12,8), xticks = (0.1,0.2,0.3,0.4,0.5,0.6,0.7,0.8,0.9,1), title=\"Democrat Stats\", fontsize=12)\n",
        "plt.show()\n",
        "\n",
        "# Set comparison data\n"
      ],
      "execution_count": 30,
      "outputs": [
        {
          "output_type": "display_data",
          "data": {
            "image/png": "[encoded data removed]",
            "text/plain": [
              "<Figure size 864x576 with 1 Axes>"
            ]
          },
          "metadata": {
            "tags": []
          }
        },
        {
          "output_type": "display_data",
          "data": {
            "image/png": "[encoded data removed]",
            "text/plain": [
              "<Figure size 864x576 with 1 Axes>"
            ]
          },
          "metadata": {
            "tags": []
          }
        }
      ]
    },
    {
      "metadata": {
        "id": "eUxYKvFNw3pO",
        "colab_type": "code",
        "colab": {
          "base_uri": "https://localhost:8080/",
          "height": 545
        },
        "outputId": "2461278d-ea34-4879-e2fa-806277ff58b0"
      },
      "cell_type": "code",
      "source": [
        "# republican data\n",
        "graph_df2"
      ],
      "execution_count": 32,
      "outputs": [
        {
          "output_type": "execute_result",
          "data": {
            "text/html": [
              "<div>\n",
              "<style scoped>\n",
              "    .dataframe tbody tr th:only-of-type {\n",
              "        vertical-align: middle;\n",
              "    }\n",
              "\n",
              "    .dataframe tbody tr th {\n",
              "        vertical-align: top;\n",
              "    }\n",
              "\n",
              "    .dataframe thead th {\n",
              "        text-align: right;\n",
              "    }\n",
              "</style>\n",
              "<table border=\"1\" class=\"dataframe\">\n",
              "  <thead>\n",
              "    <tr style=\"text-align: right;\">\n",
              "      <th></th>\n",
              "      <th>lower_CI</th>\n",
              "      <th>mean</th>\n",
              "      <th>upper_CI</th>\n",
              "    </tr>\n",
              "  </thead>\n",
              "  <tbody>\n",
              "    <tr>\n",
              "      <th>aid-to-nicaraguan-contras</th>\n",
              "      <td>0.044394</td>\n",
              "      <td>0.089744</td>\n",
              "      <td>0.135093</td>\n",
              "    </tr>\n",
              "    <tr>\n",
              "      <th>handicapped-infants</th>\n",
              "      <td>0.065935</td>\n",
              "      <td>0.115152</td>\n",
              "      <td>0.164368</td>\n",
              "    </tr>\n",
              "    <tr>\n",
              "      <th>anti-satellite-test-ban</th>\n",
              "      <td>0.078876</td>\n",
              "      <td>0.132075</td>\n",
              "      <td>0.185275</td>\n",
              "    </tr>\n",
              "    <tr>\n",
              "      <th>duty-free-exports</th>\n",
              "      <td>0.081435</td>\n",
              "      <td>0.134146</td>\n",
              "      <td>0.186857</td>\n",
              "    </tr>\n",
              "    <tr>\n",
              "      <th>education-spending</th>\n",
              "      <td>0.095955</td>\n",
              "      <td>0.152866</td>\n",
              "      <td>0.209778</td>\n",
              "    </tr>\n",
              "    <tr>\n",
              "      <th>adoption-of-the-budget-resolution</th>\n",
              "      <td>0.127652</td>\n",
              "      <td>0.187879</td>\n",
              "      <td>0.248106</td>\n",
              "    </tr>\n",
              "    <tr>\n",
              "      <th>religious-groups-in-schools</th>\n",
              "      <td>0.174201</td>\n",
              "      <td>0.240741</td>\n",
              "      <td>0.307281</td>\n",
              "    </tr>\n",
              "    <tr>\n",
              "      <th>synfuels-corporation-cutback</th>\n",
              "      <td>0.425266</td>\n",
              "      <td>0.506757</td>\n",
              "      <td>0.588248</td>\n",
              "    </tr>\n",
              "    <tr>\n",
              "      <th>export-administration-act-south-africa</th>\n",
              "      <td>0.480996</td>\n",
              "      <td>0.557576</td>\n",
              "      <td>0.634156</td>\n",
              "    </tr>\n",
              "    <tr>\n",
              "      <th>superfund-right-to-sue</th>\n",
              "      <td>0.579646</td>\n",
              "      <td>0.657534</td>\n",
              "      <td>0.735422</td>\n",
              "    </tr>\n",
              "    <tr>\n",
              "      <th>immigration</th>\n",
              "      <td>0.806186</td>\n",
              "      <td>0.860759</td>\n",
              "      <td>0.915333</td>\n",
              "    </tr>\n",
              "    <tr>\n",
              "      <th>mx-missile</th>\n",
              "      <td>0.817602</td>\n",
              "      <td>0.870968</td>\n",
              "      <td>0.924334</td>\n",
              "    </tr>\n",
              "    <tr>\n",
              "      <th>physician-fee-freeze</th>\n",
              "      <td>0.850987</td>\n",
              "      <td>0.897590</td>\n",
              "      <td>0.944193</td>\n",
              "    </tr>\n",
              "    <tr>\n",
              "      <th>water-project-cost-sharing</th>\n",
              "      <td>0.918398</td>\n",
              "      <td>0.951515</td>\n",
              "      <td>0.984632</td>\n",
              "    </tr>\n",
              "    <tr>\n",
              "      <th>crime</th>\n",
              "      <td>0.960254</td>\n",
              "      <td>0.981366</td>\n",
              "      <td>1.002479</td>\n",
              "    </tr>\n",
              "    <tr>\n",
              "      <th>el-salvador-aid</th>\n",
              "      <td>0.971007</td>\n",
              "      <td>0.987879</td>\n",
              "      <td>1.004751</td>\n",
              "    </tr>\n",
              "  </tbody>\n",
              "</table>\n",
              "</div>"
            ],
            "text/plain": [
              "                                        lower_CI      mean  upper_CI\n",
              "aid-to-nicaraguan-contras               0.044394  0.089744  0.135093\n",
              "handicapped-infants                     0.065935  0.115152  0.164368\n",
              "anti-satellite-test-ban                 0.078876  0.132075  0.185275\n",
              "duty-free-exports                       0.081435  0.134146  0.186857\n",
              "education-spending                      0.095955  0.152866  0.209778\n",
              "adoption-of-the-budget-resolution       0.127652  0.187879  0.248106\n",
              "religious-groups-in-schools             0.174201  0.240741  0.307281\n",
              "synfuels-corporation-cutback            0.425266  0.506757  0.588248\n",
              "export-administration-act-south-africa  0.480996  0.557576  0.634156\n",
              "superfund-right-to-sue                  0.579646  0.657534  0.735422\n",
              "immigration                             0.806186  0.860759  0.915333\n",
              "mx-missile                              0.817602  0.870968  0.924334\n",
              "physician-fee-freeze                    0.850987  0.897590  0.944193\n",
              "water-project-cost-sharing              0.918398  0.951515  0.984632\n",
              "crime                                   0.960254  0.981366  1.002479\n",
              "el-salvador-aid                         0.971007  0.987879  1.004751"
            ]
          },
          "metadata": {
            "tags": []
          },
          "execution_count": 32
        }
      ]
    },
    {
      "metadata": {
        "id": "_iCaE7Y2B2jV",
        "colab_type": "code",
        "colab": {
          "base_uri": "https://localhost:8080/",
          "height": 545
        },
        "outputId": "8f64f2b5-4671-4849-8b73-309dac0b29af"
      },
      "cell_type": "code",
      "source": [
        "# democrat data\n",
        "graph_df"
      ],
      "execution_count": 33,
      "outputs": [
        {
          "output_type": "execute_result",
          "data": {
            "text/html": [
              "<div>\n",
              "<style scoped>\n",
              "    .dataframe tbody tr th:only-of-type {\n",
              "        vertical-align: middle;\n",
              "    }\n",
              "\n",
              "    .dataframe tbody tr th {\n",
              "        vertical-align: top;\n",
              "    }\n",
              "\n",
              "    .dataframe thead th {\n",
              "        text-align: right;\n",
              "    }\n",
              "</style>\n",
              "<table border=\"1\" class=\"dataframe\">\n",
              "  <thead>\n",
              "    <tr style=\"text-align: right;\">\n",
              "      <th></th>\n",
              "      <th>lower_CI</th>\n",
              "      <th>mean</th>\n",
              "      <th>upper_CI</th>\n",
              "    </tr>\n",
              "  </thead>\n",
              "  <tbody>\n",
              "    <tr>\n",
              "      <th>physician-fee-freeze</th>\n",
              "      <td>0.026332</td>\n",
              "      <td>0.054054</td>\n",
              "      <td>0.081776</td>\n",
              "    </tr>\n",
              "    <tr>\n",
              "      <th>education-spending</th>\n",
              "      <td>0.100595</td>\n",
              "      <td>0.144578</td>\n",
              "      <td>0.188562</td>\n",
              "    </tr>\n",
              "    <tr>\n",
              "      <th>el-salvador-aid</th>\n",
              "      <td>0.164863</td>\n",
              "      <td>0.215686</td>\n",
              "      <td>0.266509</td>\n",
              "    </tr>\n",
              "    <tr>\n",
              "      <th>superfund-right-to-sue</th>\n",
              "      <td>0.233293</td>\n",
              "      <td>0.289683</td>\n",
              "      <td>0.346072</td>\n",
              "    </tr>\n",
              "    <tr>\n",
              "      <th>crime</th>\n",
              "      <td>0.291482</td>\n",
              "      <td>0.350195</td>\n",
              "      <td>0.408907</td>\n",
              "    </tr>\n",
              "    <tr>\n",
              "      <th>immigration</th>\n",
              "      <td>0.410757</td>\n",
              "      <td>0.471483</td>\n",
              "      <td>0.532208</td>\n",
              "    </tr>\n",
              "    <tr>\n",
              "      <th>religious-groups-in-schools</th>\n",
              "      <td>0.415392</td>\n",
              "      <td>0.476744</td>\n",
              "      <td>0.538097</td>\n",
              "    </tr>\n",
              "    <tr>\n",
              "      <th>water-project-cost-sharing</th>\n",
              "      <td>0.438245</td>\n",
              "      <td>0.502092</td>\n",
              "      <td>0.565939</td>\n",
              "    </tr>\n",
              "    <tr>\n",
              "      <th>synfuels-corporation-cutback</th>\n",
              "      <td>0.444103</td>\n",
              "      <td>0.505882</td>\n",
              "      <td>0.567662</td>\n",
              "    </tr>\n",
              "    <tr>\n",
              "      <th>handicapped-infants</th>\n",
              "      <td>0.544593</td>\n",
              "      <td>0.604651</td>\n",
              "      <td>0.664710</td>\n",
              "    </tr>\n",
              "    <tr>\n",
              "      <th>duty-free-exports</th>\n",
              "      <td>0.577569</td>\n",
              "      <td>0.637450</td>\n",
              "      <td>0.697332</td>\n",
              "    </tr>\n",
              "    <tr>\n",
              "      <th>mx-missile</th>\n",
              "      <td>0.704394</td>\n",
              "      <td>0.758065</td>\n",
              "      <td>0.811735</td>\n",
              "    </tr>\n",
              "    <tr>\n",
              "      <th>anti-satellite-test-ban</th>\n",
              "      <td>0.720782</td>\n",
              "      <td>0.772201</td>\n",
              "      <td>0.823620</td>\n",
              "    </tr>\n",
              "    <tr>\n",
              "      <th>aid-to-nicaraguan-contras</th>\n",
              "      <td>0.783085</td>\n",
              "      <td>0.828897</td>\n",
              "      <td>0.874710</td>\n",
              "    </tr>\n",
              "    <tr>\n",
              "      <th>adoption-of-the-budget-resolution</th>\n",
              "      <td>0.849944</td>\n",
              "      <td>0.888462</td>\n",
              "      <td>0.926980</td>\n",
              "    </tr>\n",
              "    <tr>\n",
              "      <th>export-administration-act-south-africa</th>\n",
              "      <td>0.899313</td>\n",
              "      <td>0.935135</td>\n",
              "      <td>0.970957</td>\n",
              "    </tr>\n",
              "  </tbody>\n",
              "</table>\n",
              "</div>"
            ],
            "text/plain": [
              "                                        lower_CI      mean  upper_CI\n",
              "physician-fee-freeze                    0.026332  0.054054  0.081776\n",
              "education-spending                      0.100595  0.144578  0.188562\n",
              "el-salvador-aid                         0.164863  0.215686  0.266509\n",
              "superfund-right-to-sue                  0.233293  0.289683  0.346072\n",
              "crime                                   0.291482  0.350195  0.408907\n",
              "immigration                             0.410757  0.471483  0.532208\n",
              "religious-groups-in-schools             0.415392  0.476744  0.538097\n",
              "water-project-cost-sharing              0.438245  0.502092  0.565939\n",
              "synfuels-corporation-cutback            0.444103  0.505882  0.567662\n",
              "handicapped-infants                     0.544593  0.604651  0.664710\n",
              "duty-free-exports                       0.577569  0.637450  0.697332\n",
              "mx-missile                              0.704394  0.758065  0.811735\n",
              "anti-satellite-test-ban                 0.720782  0.772201  0.823620\n",
              "aid-to-nicaraguan-contras               0.783085  0.828897  0.874710\n",
              "adoption-of-the-budget-resolution       0.849944  0.888462  0.926980\n",
              "export-administration-act-south-africa  0.899313  0.935135  0.970957"
            ]
          },
          "metadata": {
            "tags": []
          },
          "execution_count": 33
        }
      ]
    },
    {
      "metadata": {
        "id": "wQEpO-X-B_DD",
        "colab_type": "code",
        "colab": {}
      },
      "cell_type": "code",
      "source": [
        ""
      ],
      "execution_count": 0,
      "outputs": []
    }
  ]
}